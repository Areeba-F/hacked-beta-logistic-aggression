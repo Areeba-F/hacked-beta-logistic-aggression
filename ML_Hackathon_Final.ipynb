{
  "nbformat": 4,
  "nbformat_minor": 0,
  "metadata": {
    "colab": {
      "name": "ML Hackathon - Final",
      "provenance": [],
      "authorship_tag": "ABX9TyNFlU12z1bv5AWPB8KJX8h9",
      "include_colab_link": true
    },
    "kernelspec": {
      "name": "python3",
      "display_name": "Python 3"
    },
    "language_info": {
      "name": "python"
    }
  },
  "cells": [
    {
      "cell_type": "markdown",
      "metadata": {
        "id": "view-in-github",
        "colab_type": "text"
      },
      "source": [
        "<a href=\"https://colab.research.google.com/github/sneer-chase-scouting-descent/hacked-beta-logistic-aggression/blob/main/ML_Hackathon_Final.ipynb\" target=\"_parent\"><img src=\"https://colab.research.google.com/assets/colab-badge.svg\" alt=\"Open In Colab\"/></a>"
      ]
    },
    {
      "cell_type": "markdown",
      "metadata": {
        "id": "kfLkWNWd5KML"
      },
      "source": [
        ""
      ]
    },
    {
      "cell_type": "markdown",
      "metadata": {
        "id": "UjLXu0HN5OiZ"
      },
      "source": [
        "**Importing the necessary libraries**\n",
        "\n",
        "- Pandas: data manipulation and analysis\n",
        "- Numpy: math & equations with arrays\n",
        "- Matplotlib: Shows graphs and plots, pyplot is a module in it that allows for more graphical work. \n"
      ]
    },
    {
      "cell_type": "code",
      "metadata": {
        "id": "awxJl0BIKMXl"
      },
      "source": [
        "import pandas as pandas\n",
        "import numpy as numpy\n",
        "import matplotlib.pyplot as plot"
      ],
      "execution_count": null,
      "outputs": []
    },
    {
      "cell_type": "markdown",
      "metadata": {
        "id": "Q2XO0UEM6WzC"
      },
      "source": [
        "**Importing the dataset**\n",
        "\n",
        "- A DataFrame is pandas' representation of a chart. To display data from a csv file into a DataFrame we use the .read_csv( ) functon.\n",
        "\n",
        "- To specify areas of chart to a variable, use the .iloc method, .iloc[start row:end row , start column: end column]. .values takes just the terms."
      ]
    },
    {
      "cell_type": "code",
      "metadata": {
        "colab": {
          "base_uri": "https://localhost:8080/"
        },
        "id": "oZNUMoCE6WHf",
        "outputId": "ddd66ca8-85d6-4702-9327-5b3d0d9227da"
      },
      "source": [
        "Data = pandas.read_csv('Rcardiotrain.csv')\n",
        "x = Data.iloc[:, :-1]\n",
        "y = Data.iloc[:, -1]\n",
        "print(x[0:20])\n",
        "print(' ')\n",
        "print(y[0:20])"
      ],
      "execution_count": null,
      "outputs": [
        {
          "output_type": "stream",
          "name": "stdout",
          "text": [
            "    18393  2  168     62  110   80  1  1.1  0  0.1  1.2\n",
            "0   20228  1  156   85.0  140   90  3    1  0    0    1\n",
            "1   18857  1  165   64.0  130   70  3    1  0    0    0\n",
            "2   17623  2  169   82.0  150  100  1    1  0    0    1\n",
            "3   17474  1  156   56.0  100   60  1    1  0    0    0\n",
            "4   21914  1  151   67.0  120   80  2    2  0    0    0\n",
            "5   22113  1  157   93.0  130   80  3    1  0    0    1\n",
            "6   22584  2  178   95.0  130   90  3    3  0    0    1\n",
            "7   17668  1  158   71.0  110   70  1    1  0    0    1\n",
            "8   19834  1  164   68.0  110   60  1    1  0    0    0\n",
            "9   22530  1  169   80.0  120   80  1    1  0    0    1\n",
            "10  18815  2  173   60.0  120   80  1    1  0    0    1\n",
            "11  14791  2  165   60.0  120   80  1    1  0    0    0\n",
            "12  19809  1  158   78.0  110   70  1    1  0    0    1\n",
            "13  14532  2  181   95.0  130   90  1    1  1    1    1\n",
            "14  16782  2  172  112.0  120   80  1    1  0    0    0\n",
            "15  21296  1  170   75.0  130   70  1    1  0    0    0\n",
            "16  16747  1  158   52.0  110   70  1    3  0    0    1\n",
            "17  17482  1  154   68.0  100   70  1    1  0    0    0\n",
            "18  21755  2  162   56.0  120   70  1    1  1    0    1\n",
            "19  19778  2  163   83.0  120   80  1    1  0    0    1\n",
            " \n",
            "0     1\n",
            "1     1\n",
            "2     1\n",
            "3     0\n",
            "4     0\n",
            "5     0\n",
            "6     1\n",
            "7     0\n",
            "8     0\n",
            "9     0\n",
            "10    0\n",
            "11    0\n",
            "12    0\n",
            "13    0\n",
            "14    1\n",
            "15    0\n",
            "16    0\n",
            "17    0\n",
            "18    0\n",
            "19    0\n",
            "Name: 0.2, dtype: int64\n"
          ]
        }
      ]
    }
  ]
}